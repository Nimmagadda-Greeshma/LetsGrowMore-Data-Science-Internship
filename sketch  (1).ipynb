{
 "cells": [
  {
   "cell_type": "markdown",
   "id": "0e4f51a7",
   "metadata": {},
   "source": [
    "# DATA SCIENCE INTERNSHIP AT LETSGROWMORE VIP \n"
   ]
  },
  {
   "cell_type": "markdown",
   "id": "53b144df",
   "metadata": {},
   "source": [
    "## Task-4: Image To  Pencil Sketch "
   ]
  },
  {
   "cell_type": "code",
   "execution_count": null,
   "id": "294534d7",
   "metadata": {},
   "outputs": [],
   "source": [
    "import cv2\n",
    "image=cv2.imread(\"person.jpg\")"
   ]
  },
  {
   "cell_type": "code",
   "execution_count": null,
   "id": "68b43052",
   "metadata": {},
   "outputs": [],
   "source": [
    "cv2.imshow(\"person\",image)"
   ]
  },
  {
   "cell_type": "code",
   "execution_count": null,
   "id": "badd1e4b",
   "metadata": {},
   "outputs": [],
   "source": [
    "#import matplotlib.pyplot as plt \n",
    "#%matplotlib inline \n",
    "#img_rgb=cv2.cvtColor(image,cv2.COLOR_BGR2RGB)\n",
    "#plt.imshow(img_rgb)"
   ]
  },
  {
   "cell_type": "code",
   "execution_count": null,
   "id": "6335c3f7",
   "metadata": {},
   "outputs": [],
   "source": [
    "import matplotlib.pyplot as plt \n",
    "get_ipython().run_line_magic('matplotlib', 'inline')\n",
    "img_rgb=cv2.cvtColor(image,cv2.COLOR_BGR2RGB)\n",
    "plt.imshow(img_rgb)\n"
   ]
  },
  {
   "cell_type": "code",
   "execution_count": null,
   "id": "f733ef72",
   "metadata": {},
   "outputs": [],
   "source": [
    "grey_image=cv2.cvtColor(image, cv2.COLOR_BGR2GRAY)\n",
    "grey_image"
   ]
  },
  {
   "cell_type": "code",
   "execution_count": null,
   "id": "c5c6f981",
   "metadata": {},
   "outputs": [],
   "source": [
    "plt.imshow(grey_image)"
   ]
  },
  {
   "cell_type": "code",
   "execution_count": null,
   "id": "8224063a",
   "metadata": {},
   "outputs": [],
   "source": [
    "invert_image=255-grey_image\n",
    "plt.imshow(invert_image)"
   ]
  },
  {
   "cell_type": "code",
   "execution_count": null,
   "id": "d32677f3",
   "metadata": {},
   "outputs": [],
   "source": [
    "blurred=cv2.GaussianBlur(invert_image,(21,21),0)\n",
    "plt.imshow(blurred)"
   ]
  },
  {
   "cell_type": "code",
   "execution_count": null,
   "id": "7274f7e6",
   "metadata": {},
   "outputs": [],
   "source": [
    "invert_blurred=255-blurred\n",
    "pencil_sketch=cv2.divide(grey_image,invert_blurred,scale=256.0)\n",
    "plt.imshow(pencil_sketch)"
   ]
  },
  {
   "cell_type": "code",
   "execution_count": null,
   "id": "efdf51fc",
   "metadata": {},
   "outputs": [],
   "source": [
    "cv2.imshow(\"Photo\",pencil_sketch)"
   ]
  },
  {
   "cell_type": "code",
   "execution_count": null,
   "id": "d560bf29",
   "metadata": {},
   "outputs": [],
   "source": [
    "cv2.imshow(\"Original\",image)\n",
    "cv2.imshow(\"pencil sketch\",pencil_sketch)"
   ]
  },
  {
   "cell_type": "code",
   "execution_count": null,
   "id": "8fbd1470",
   "metadata": {},
   "outputs": [],
   "source": []
  },
  {
   "cell_type": "code",
   "execution_count": null,
   "id": "85059688",
   "metadata": {},
   "outputs": [],
   "source": []
  }
 ],
 "metadata": {
  "kernelspec": {
   "display_name": "Python 3 (ipykernel)",
   "language": "python",
   "name": "python3"
  },
  "language_info": {
   "codemirror_mode": {
    "name": "ipython",
    "version": 3
   },
   "file_extension": ".py",
   "mimetype": "text/x-python",
   "name": "python",
   "nbconvert_exporter": "python",
   "pygments_lexer": "ipython3",
   "version": "3.9.7"
  }
 },
 "nbformat": 4,
 "nbformat_minor": 5
}
